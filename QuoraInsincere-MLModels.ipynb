{
 "cells": [
  {
   "cell_type": "code",
   "execution_count": 1,
   "metadata": {},
   "outputs": [],
   "source": [
    "import numpy as np\n",
    "import pandas as pd\n",
    "import warnings\n",
    "warnings.filterwarnings('ignore')\n",
    "import gc\n",
    "gc.enable()"
   ]
  },
  {
   "cell_type": "markdown",
   "metadata": {},
   "source": [
    "# Read training data / Balance data for sincere and insincere questions"
   ]
  },
  {
   "cell_type": "code",
   "execution_count": 2,
   "metadata": {},
   "outputs": [
    {
     "name": "stdout",
     "output_type": "stream",
     "text": [
      "<class 'pandas.core.frame.DataFrame'>\n",
      "RangeIndex: 180810 entries, 0 to 180809\n",
      "Data columns (total 3 columns):\n",
      "qid              180810 non-null object\n",
      "question_text    180810 non-null object\n",
      "target           180810 non-null int64\n",
      "dtypes: int64(1), object(2)\n",
      "memory usage: 4.1+ MB\n"
     ]
    }
   ],
   "source": [
    "# Read training data\n",
    "quora_train = pd.read_csv('data/train.csv')\n",
    "# Balance the unbalanced data by downsampling Sincere questions\n",
    "quora_train_sampled = quora_train[quora_train['target'] == 0].sample(100000,random_state=42)\n",
    "quora_train_sampled = pd.concat([quora_train_sampled,quora_train[quora_train['target'] == 1]])\n",
    "quora_train_sampled = quora_train_sampled.reset_index(drop=True)\n",
    "# Shuffle the order of questions\n",
    "from sklearn.utils import shuffle\n",
    "quora_train_sampled = shuffle(quora_train_sampled)\n",
    "quora_train_sampled.head(20)\n",
    "quora_train_sampled = quora_train_sampled.reset_index(drop=True)\n",
    "# Release unwanted memory\n",
    "del quora_train\n",
    "gc.collect()\n",
    "quora_train_sampled.info()"
   ]
  },
  {
   "cell_type": "markdown",
   "metadata": {},
   "source": [
    "# Train and Test split"
   ]
  },
  {
   "cell_type": "code",
   "execution_count": 3,
   "metadata": {},
   "outputs": [
    {
     "data": {
      "text/plain": [
       "((144648, 2), (144648,), (36162, 2), (36162,))"
      ]
     },
     "execution_count": 3,
     "metadata": {},
     "output_type": "execute_result"
    }
   ],
   "source": [
    "from sklearn.model_selection import train_test_split\n",
    "X_train, X_test, y_train, y_test = train_test_split(quora_train_sampled[quora_train_sampled.columns[0:-1]], quora_train_sampled[quora_train_sampled.columns[-1]], test_size=.2, stratify=quora_train_sampled[quora_train_sampled.columns[-1]])\n",
    "X_train.shape, y_train.shape, X_test.shape, y_test.shape"
   ]
  },
  {
   "cell_type": "markdown",
   "metadata": {},
   "source": [
    "# Data preprocessing"
   ]
  },
  {
   "cell_type": "code",
   "execution_count": 4,
   "metadata": {},
   "outputs": [
    {
     "name": "stdout",
     "output_type": "stream",
     "text": [
      "[nltk_data] Downloading package punkt to\n",
      "[nltk_data]     C:\\Users\\ssubramanian2\\AppData\\Roaming\\nltk_data...\n",
      "[nltk_data]   Package punkt is already up-to-date!\n",
      "[nltk_data] Downloading package stopwords to\n",
      "[nltk_data]     C:\\Users\\ssubramanian2\\AppData\\Roaming\\nltk_data...\n",
      "[nltk_data]   Package stopwords is already up-to-date!\n",
      "[nltk_data] Downloading package vader_lexicon to\n",
      "[nltk_data]     C:\\Users\\ssubramanian2\\AppData\\Roaming\\nltk_data...\n",
      "[nltk_data]   Package vader_lexicon is already up-to-date!\n",
      "[nltk_data] Downloading package wordnet to\n",
      "[nltk_data]     C:\\Users\\ssubramanian2\\AppData\\Roaming\\nltk_data...\n",
      "[nltk_data]   Package wordnet is already up-to-date!\n"
     ]
    },
    {
     "data": {
      "text/plain": [
       "True"
      ]
     },
     "execution_count": 4,
     "metadata": {},
     "output_type": "execute_result"
    }
   ],
   "source": [
    "import nltk\n",
    "from nltk.tokenize import word_tokenize\n",
    "from nltk.tokenize import sent_tokenize\n",
    "from nltk.corpus import stopwords\n",
    "from nltk.stem import WordNetLemmatizer\n",
    "from nltk.stem import PorterStemmer\n",
    "from nltk.stem.snowball import SnowballStemmer\n",
    "from string import punctuation\n",
    "nltk.download('punkt')\n",
    "nltk.download('stopwords')\n",
    "nltk.download('vader_lexicon')\n",
    "nltk.download('wordnet')"
   ]
  },
  {
   "cell_type": "code",
   "execution_count": 5,
   "metadata": {},
   "outputs": [],
   "source": [
    "def tokenize(docs):\n",
    "    tokenized_docs = [word_tokenize(doc.lower()) for doc in docs]\n",
    "    return tokenized_docs\n",
    "\n",
    "def get_alpha_tokens(docs):\n",
    "    alpha_tokens = [[t for t in doc if t.isalpha() == True] for doc in docs]\n",
    "    return alpha_tokens\n",
    "\n",
    "def remove_stop_words(docs,is_punc=False):\n",
    "    if is_punc:  \n",
    "        stopwords_en = stopwords.words('english')\n",
    "    else:\n",
    "        stopwords_en = stopwords.words('english').union(set(punctuation))\n",
    "    tokens_wo_stop_words = [[t for t in doc if t not in stopwords_en] for doc in docs]\n",
    "    return tokens_wo_stop_words\n",
    "\n",
    "def stemmer(docs,stemmer_name=\"porter\"):\n",
    "    if stemmer_name == \"snowball\":\n",
    "        print(\"Using Snowball Stemmer\")\n",
    "        stemmer_var = SnowballStemmer (\"english\", ignore_stopwords=True)\n",
    "    else:\n",
    "        print(\"Using Porter Stemmer\")\n",
    "        stemmer_var = PorterStemmer ()\n",
    "        \n",
    "    stemmed_tokens = [[stemmer_var.stem(t) for t in doc] for doc in docs]\n",
    "    return stemmed_tokens\n",
    "\n",
    "def lemmatizer(docs):\n",
    "    print(\"Using word-net lemmatizer\")\n",
    "    wordnet_lemmatizer = WordNetLemmatizer()\n",
    "    lemmed_tokens = [[wordnet_lemmatizer.lemmatize(t,pos='v') for t in doc] for doc in docs]\n",
    "    return lemmed_tokens\n",
    "    \n",
    "def text_preprocessing(docs,is_lemma=False):\n",
    "    tokenized_docs = tokenize(docs)\n",
    "    alpha_tokens = get_alpha_tokens(tokenized_docs)\n",
    "    tokens_wo_stop_words = remove_stop_words(alpha_tokens,is_punc=True)\n",
    "    if is_lemma == False:\n",
    "        stem_lemma_tokens = stemmer(tokens_wo_stop_words)\n",
    "    else:\n",
    "        stem_lemma_tokens = lemmatizer(tokens_wo_stop_words)\n",
    "    X_stem_as_string = [\" \".join(x_t) for x_t in stem_lemma_tokens]\n",
    "    return X_stem_as_string"
   ]
  },
  {
   "cell_type": "code",
   "execution_count": 6,
   "metadata": {
    "scrolled": true
   },
   "outputs": [
    {
     "name": "stdout",
     "output_type": "stream",
     "text": [
      "Using Porter Stemmer\n",
      "Using Porter Stemmer\n"
     ]
    }
   ],
   "source": [
    "X_train_pr = text_preprocessing(X_train['question_text'],False)\n",
    "X_test_pr = text_preprocessing(X_test['question_text'],False)"
   ]
  },
  {
   "cell_type": "markdown",
   "metadata": {},
   "source": [
    "# Feature Extraction"
   ]
  },
  {
   "cell_type": "code",
   "execution_count": 7,
   "metadata": {},
   "outputs": [],
   "source": [
    "from sklearn.feature_extraction.text import CountVectorizer\n",
    "from sklearn.feature_extraction.text import TfidfVectorizer\n",
    "from sklearn.preprocessing import PolynomialFeatures\n",
    "from sklearn.decomposition import TruncatedSVD\n",
    "from sklearn.decomposition import LatentDirichletAllocation\n",
    "from sklearn.pipeline import FeatureUnion\n",
    "from sklearn.pipeline import Pipeline"
   ]
  },
  {
   "cell_type": "markdown",
   "metadata": {},
   "source": [
    "### 1. Count + TF-IDF"
   ]
  },
  {
   "cell_type": "code",
   "execution_count": 8,
   "metadata": {},
   "outputs": [],
   "source": [
    "def create_tfidf_feature(ngram=(1,1)):\n",
    "    tfvec = TfidfVectorizer(stop_words='english',lowercase=True,ngram_range=ngram)\n",
    "    return tfvec"
   ]
  },
  {
   "cell_type": "markdown",
   "metadata": {},
   "source": [
    "### 2. Polynomial features"
   ]
  },
  {
   "cell_type": "code",
   "execution_count": 9,
   "metadata": {},
   "outputs": [],
   "source": [
    "def create_poly_feature():\n",
    "    polynom = PolynomialFeatures()\n",
    "    return polynom"
   ]
  },
  {
   "cell_type": "markdown",
   "metadata": {},
   "source": [
    "### 3. SVD feature"
   ]
  },
  {
   "cell_type": "code",
   "execution_count": 10,
   "metadata": {},
   "outputs": [],
   "source": [
    "def create_svd_feature(n_comp=100, random_state=42):\n",
    "    svd = TruncatedSVD(n_components=n_comp, random_state=random_state)\n",
    "    return svd"
   ]
  },
  {
   "cell_type": "markdown",
   "metadata": {},
   "source": [
    "### 4. LDA feature"
   ]
  },
  {
   "cell_type": "code",
   "execution_count": 11,
   "metadata": {},
   "outputs": [],
   "source": [
    "def create_lda_feature(n_comp=100, random_state=42):\n",
    "    lda = LatentDirichletAllocation(n_components=n_comp, random_state=random_state)\n",
    "    return lda"
   ]
  },
  {
   "cell_type": "markdown",
   "metadata": {},
   "source": [
    "### 5. Sentiment Analysis feature"
   ]
  },
  {
   "cell_type": "code",
   "execution_count": 12,
   "metadata": {},
   "outputs": [],
   "source": [
    "from sklearn.base import TransformerMixin\n",
    "from nltk.sentiment.vader import SentimentIntensityAnalyzer\n",
    "class SentimentAnalysis(TransformerMixin):\n",
    "    \n",
    "    def transform(self, X, y=None, **fit_params):\n",
    "        sid = SentimentIntensityAnalyzer()\n",
    "        pos = []\n",
    "        neg = []\n",
    "        neu = []\n",
    "        for sentence in X:\n",
    "            scores = sid.polarity_scores(sentence)\n",
    "            pos.append(scores['pos'])\n",
    "            neg.append(scores['neg'])\n",
    "            neu.append(scores['neu'])\n",
    "        sent_arr = np.column_stack((pos, neg, neu))\n",
    "        return sent_arr\n",
    "    def fit_transform(self, X, y=None, **fit_params):\n",
    "        self.fit(X, y, **fit_params)\n",
    "        return self.transform(X)\n",
    "    def fit(self, X, y=None, **fit_params):\n",
    "        return self\n",
    "\n",
    "def create_sentiment_feature():\n",
    "    senti = SentimentAnalysis()\n",
    "    return senti"
   ]
  },
  {
   "cell_type": "markdown",
   "metadata": {},
   "source": [
    "### 6. Profanity feature"
   ]
  },
  {
   "cell_type": "code",
   "execution_count": 13,
   "metadata": {},
   "outputs": [],
   "source": [
    "class ProfanityFilter(TransformerMixin):\n",
    "    \n",
    "    def transform(self, X, y=None, **fit_params):\n",
    "        with open('profanity.txt', 'r') as f:\n",
    "            profanity_list = f.read().splitlines()\n",
    "        profanity_count = []\n",
    "        for sentence in X:\n",
    "            count = 0\n",
    "            for word in word_tokenize(sentence):\n",
    "                if word in profanity_list:\n",
    "                    count += 1\n",
    "            profanity_count.append(count)\n",
    "        prof_arr = np.column_stack((profanity_count))\n",
    "        return prof_arr.T\n",
    "    def fit_transform(self, X, y=None, **fit_params):\n",
    "        self.fit(X, y, **fit_params)\n",
    "        return self.transform(X)\n",
    "    def fit(self, X, y=None, **fit_params):\n",
    "        return self\n",
    "\n",
    "def create_profanity_feature():\n",
    "    prof = ProfanityFilter()\n",
    "    return prof"
   ]
  },
  {
   "cell_type": "markdown",
   "metadata": {},
   "source": [
    "# Metrics and Results"
   ]
  },
  {
   "cell_type": "code",
   "execution_count": 14,
   "metadata": {},
   "outputs": [],
   "source": [
    "from sklearn.metrics import confusion_matrix, classification_report\n",
    "def print_results(y_pred,y_test,filename=None):\n",
    "    cm = confusion_matrix(y_test, y_pred)\n",
    "    labels = ['sincere', 'unsincere']\n",
    "    df_cm = pd.DataFrame(cm, columns=labels, index=labels)\n",
    "    print(df_cm)\n",
    "    report = classification_report(y_test, y_pred)\n",
    "    print(report)"
   ]
  },
  {
   "cell_type": "code",
   "execution_count": 15,
   "metadata": {},
   "outputs": [],
   "source": [
    "from sklearn.model_selection import cross_val_score\n",
    "from sklearn.metrics import make_scorer\n",
    "from sklearn.metrics import fbeta_score\n",
    "def multi_scoring(y_test,y_pred):\n",
    "    report = print_results(y_test, y_pred)\n",
    "    print(report)\n",
    "    return fbeta_score(y_test, y_pred, 1, average='macro')\n",
    "class CrossValidation(TransformerMixin):\n",
    "    model = None\n",
    "    score = None\n",
    "    def set_model(self,model):\n",
    "        self.model = model\n",
    "    def fit(self, X, y=None, **fit_params):\n",
    "        self.score = cross_val_score(self.model, X, y, cv=3, scoring=make_scorer(multi_scoring))\n",
    "        return self.score"
   ]
  },
  {
   "cell_type": "code",
   "execution_count": 47,
   "metadata": {},
   "outputs": [],
   "source": [
    "def print_false_classifications(X,y_pred,y_test,n=10):\n",
    "    wrong_indices = [idx for idx,(i, j) in enumerate(zip(y_pred,y_test)) if i != j]\n",
    "    wrong_sentences = [X[i] for i in wrong_indices[:n]]\n",
    "    actual_class = [y_test[i] for i in wrong_indices[:n]]\n",
    "    return pd.DataFrame({'Sentence': wrong_sentences,'Class': actual_class,})"
   ]
  },
  {
   "cell_type": "code",
   "execution_count": 54,
   "metadata": {},
   "outputs": [],
   "source": [
    "def print_true_classifications(X,y_pred,y_test,n=10):\n",
    "    wrong_indices = [idx for idx,(i, j) in enumerate(zip(y_pred,y_test)) if i == j]\n",
    "    wrong_sentences = [X[i] for i in wrong_indices[:n]]\n",
    "    actual_class = [y_test[i] for i in wrong_indices[:n]]\n",
    "    return pd.DataFrame({'Sentence': wrong_sentences,'Class': actual_class,})"
   ]
  },
  {
   "cell_type": "code",
   "execution_count": 17,
   "metadata": {},
   "outputs": [],
   "source": [
    "%matplotlib inline\n",
    "from matplotlib import pyplot as plt\n",
    "def plot_importance(feature_importances,n=20):\n",
    "    plt.figure(figsize=(10,15))\n",
    "    (pd.Series(feature_importances)\n",
    "       .nlargest(n)\n",
    "       .plot(kind='barh'))"
   ]
  },
  {
   "cell_type": "markdown",
   "metadata": {},
   "source": [
    "# ML Models"
   ]
  },
  {
   "cell_type": "code",
   "execution_count": 18,
   "metadata": {},
   "outputs": [],
   "source": [
    "from sklearn.linear_model import LogisticRegression\n",
    "from sklearn.ensemble import RandomForestClassifier\n",
    "from sklearn.tree import DecisionTreeClassifier\n",
    "from sklearn.model_selection import GridSearchCV"
   ]
  },
  {
   "cell_type": "code",
   "execution_count": 19,
   "metadata": {},
   "outputs": [],
   "source": [
    "class PipelineModel():\n",
    "    feature_list = []\n",
    "    model = None\n",
    "    model_pipe = None\n",
    "    \n",
    "    def add_feature(self,feature_name,feature):\n",
    "        self.feature_list.append((feature_name,feature))\n",
    "    \n",
    "    def set_model(self,model):\n",
    "        self.model = model\n",
    "    \n",
    "    def train_pipeline(self,X_train,y_train):\n",
    "        self.model_pipe = Pipeline([\n",
    "            ('features', FeatureUnion(self.feature_list)),\n",
    "            ('model',self.model)\n",
    "        ])\n",
    "        model_fit = self.model_pipe.fit(X_train,y_train)\n",
    "        return model_fit\n",
    "    \n",
    "    def test_pipeline(self,X_test):\n",
    "        y_pred = self.model_pipe.predict(X_test)\n",
    "        return y_pred\n",
    "    \n",
    "    def cross_validate(self,X_train,y_train):\n",
    "        cv_model = CrossValidation()\n",
    "        cv_model.set_model(self.model)\n",
    "        self.model_pipe = Pipeline([\n",
    "            ('features', FeatureUnion(self.feature_list)),\n",
    "            ('model',cv_model)\n",
    "        ])\n",
    "        model_fit = self.model_pipe.fit(X_train,y_train)\n",
    "        return model_fit\n",
    "        \n",
    "    def hyperparam_optimize(self,X_train,y_train,hyperparams):\n",
    "        self.model_pipe = Pipeline([\n",
    "            ('features', FeatureUnion(self.feature_list)),\n",
    "            ('model',GridSearchCV(self.model, hyperparams, cv=2, verbose=0, scoring='f1_macro'))\n",
    "        ])\n",
    "        best_model = self.model_pipe.fit(X_train,y_train)\n",
    "        return best_model"
   ]
  },
  {
   "cell_type": "markdown",
   "metadata": {},
   "source": [
    "### 1. TFIDF + SVD + POLY + SENTI + LOGISTIC"
   ]
  },
  {
   "cell_type": "code",
   "execution_count": 20,
   "metadata": {},
   "outputs": [],
   "source": [
    "svd_pipeline = PipelineModel()\n",
    "\n",
    "vectorizer = create_tfidf_feature((1,2))\n",
    "svd = create_svd_feature(200)\n",
    "poly = create_poly_feature()\n",
    "feature_svd_pipe = Pipeline([\n",
    "    ('vectorizer',vectorizer),\n",
    "    ('svd',svd),\n",
    "    #('polynom',poly),\n",
    "])\n",
    "\n",
    "senti = create_sentiment_feature()\n",
    "feature_sentiment_pipe = Pipeline([\n",
    "    ('sentiment',senti),\n",
    "])\n",
    "\n",
    "profanity = create_profanity_feature()\n",
    "feature_profanity_pipe = Pipeline([\n",
    "    ('profanity',profanity),\n",
    "])\n",
    "\n",
    "svd_pipeline.add_feature('svd_pipe',feature_svd_pipe)\n",
    "#svd_pipeline.add_feature('senti_pipe',feature_sentiment_pipe)\n",
    "#svd_pipeline.add_feature('profanity_pipe',feature_profanity_pipe)\n",
    "\n",
    "lr = LogisticRegression(random_state=0, solver='lbfgs',multi_class='multinomial')\n",
    "svd_pipeline.set_model(lr)"
   ]
  },
  {
   "cell_type": "code",
   "execution_count": null,
   "metadata": {},
   "outputs": [],
   "source": [
    "model_fit = svd_pipeline.cross_validate(X_train_pr,y_train)\n",
    "print(\"Average F1 score : \",np.mean(svd_pipeline.model_pipe.named_steps['model'].score))"
   ]
  },
  {
   "cell_type": "code",
   "execution_count": 21,
   "metadata": {},
   "outputs": [
    {
     "name": "stdout",
     "output_type": "stream",
     "text": [
      "           sincere  unsincere\n",
      "sincere      16903       3097\n",
      "unsincere     3199      12963\n",
      "             precision    recall  f1-score   support\n",
      "\n",
      "          0       0.84      0.85      0.84     20000\n",
      "          1       0.81      0.80      0.80     16162\n",
      "\n",
      "avg / total       0.83      0.83      0.83     36162\n",
      "\n"
     ]
    }
   ],
   "source": [
    "svd_pipeline.train_pipeline(X_train_pr,y_train)\n",
    "y_pred = svd_pipeline.test_pipeline(X_test_pr)\n",
    "print_results(y_pred,y_test)"
   ]
  },
  {
   "cell_type": "code",
   "execution_count": 22,
   "metadata": {},
   "outputs": [
    {
     "data": {
      "image/png": "[encoded data removed]",
      "text/plain": [
       "<Figure size 720x1080 with 1 Axes>"
      ]
     },
     "metadata": {},
     "output_type": "display_data"
    }
   ],
   "source": [
    "plot_importance(lr.coef_[0],50)"
   ]
  },
  {
   "cell_type": "code",
   "execution_count": 23,
   "metadata": {},
   "outputs": [],
   "source": [
    "components = pd.DataFrame(data=svd.components_, columns=feature_svd_pipe.named_steps['vectorizer'].get_feature_names())"
   ]
  },
  {
   "cell_type": "code",
   "execution_count": 46,
   "metadata": {},
   "outputs": [
    {
     "data": {
      "text/plain": [
       "<matplotlib.axes._subplots.AxesSubplot at 0x2d21c256ac8>"
      ]
     },
     "execution_count": 46,
     "metadata": {},
     "output_type": "execute_result"
    },
    {
     "data": {
      "image/png": "[encoded data removed]",
      "text/plain": [
       "<Figure size 720x1080 with 1 Axes>"
      ]
     },
     "metadata": {},
     "output_type": "display_data"
    }
   ],
   "source": [
    "plt.figure(figsize=(10,15))\n",
    "(components.iloc[182]).sort_values(ascending=False)[0:50].sort_values().plot.barh()"
   ]
  },
  {
   "cell_type": "code",
   "execution_count": 30,
   "metadata": {},
   "outputs": [
    {
     "name": "stdout",
     "output_type": "stream",
     "text": [
      "(200, 573591)\n",
      "(200, 573591)\n",
      "(200, 573591)\n",
      "(200, 573591)\n",
      "(200, 573591)\n",
      "(200, 573591)\n",
      "(200, 573591)\n",
      "(200, 573591)\n",
      "(200, 573591)\n",
      "(200, 573591)\n"
     ]
    },
    {
     "data": {
      "image/png": "[encoded data removed]",
      "text/plain": [
       "<Figure size 216x72 with 1 Axes>"
      ]
     },
     "metadata": {},
     "output_type": "display_data"
    },
    {
     "data": {
      "image/png": "[encoded data removed]",
      "text/plain": [
       "<Figure size 216x72 with 1 Axes>"
      ]
     },
     "metadata": {},
     "output_type": "display_data"
    },
    {
     "data": {
      "image/png": "[encoded data removed]",
      "text/plain": [
       "<Figure size 216x72 with 1 Axes>"
      ]
     },
     "metadata": {},
     "output_type": "display_data"
    },
    {
     "data": {
      "image/png": "[encoded data removed]",
      "text/plain": [
       "<Figure size 216x72 with 1 Axes>"
      ]
     },
     "metadata": {},
     "output_type": "display_data"
    },
    {
     "data": {
      "image/png": "[encoded data removed]",
      "text/plain": [
       "<Figure size 216x72 with 1 Axes>"
      ]
     },
     "metadata": {},
     "output_type": "display_data"
    },
    {
     "data": {
      "image/png": "[encoded data removed]",
      "text/plain": [
       "<Figure size 216x72 with 1 Axes>"
      ]
     },
     "metadata": {},
     "output_type": "display_data"
    },
    {
     "data": {
      "image/png": "[encoded data removed]",
      "text/plain": [
       "<Figure size 216x72 with 1 Axes>"
      ]
     },
     "metadata": {},
     "output_type": "display_data"
    },
    {
     "data": {
      "image/png": "[encoded data removed]",
      "text/plain": [
       "<Figure size 216x72 with 1 Axes>"
      ]
     },
     "metadata": {},
     "output_type": "display_data"
    },
    {
     "data": {
      "image/png": "[encoded data removed]",
      "text/plain": [
       "<Figure size 216x72 with 1 Axes>"
      ]
     },
     "metadata": {},
     "output_type": "display_data"
    },
    {
     "data": {
      "image/png": "[encoded data removed]",
      "text/plain": [
       "<Figure size 216x72 with 1 Axes>"
      ]
     },
     "metadata": {},
     "output_type": "display_data"
    }
   ],
   "source": [
    "for i in [0,29,37,11,26,91,51,67,10,9]:\n",
    "    print(components.shape)\n",
    "    plt.figure(figsize=(3,1))\n",
    "    (components.iloc[i]).sort_values(ascending=False)[0:5].sort_values().plot.barh()"
   ]
  },
  {
   "cell_type": "code",
   "execution_count": 51,
   "metadata": {},
   "outputs": [
    {
     "data": {
      "text/plain": [
       "123899    1\n",
       "85996     0\n",
       "8855      0\n",
       "126940    0\n",
       "127783    1\n",
       "61531     1\n",
       "46423     0\n",
       "62313     1\n",
       "88597     1\n",
       "137007    1\n",
       "95758     0\n",
       "108335    0\n",
       "43484     1\n",
       "76643     0\n",
       "97598     1\n",
       "173033    1\n",
       "1711      0\n",
       "2878      1\n",
       "67172     1\n",
       "19747     1\n",
       "126756    0\n",
       "80231     1\n",
       "156339    1\n",
       "107699    1\n",
       "18011     0\n",
       "180203    1\n",
       "62617     0\n",
       "33675     0\n",
       "134971    1\n",
       "70106     1\n",
       "         ..\n",
       "124671    0\n",
       "31696     1\n",
       "106867    0\n",
       "22002     1\n",
       "69303     1\n",
       "31983     1\n",
       "5413      1\n",
       "68226     0\n",
       "120786    0\n",
       "33928     1\n",
       "117184    1\n",
       "60349     0\n",
       "51898     0\n",
       "120129    1\n",
       "86027     1\n",
       "132231    0\n",
       "144015    0\n",
       "135948    0\n",
       "101696    0\n",
       "129279    0\n",
       "81264     0\n",
       "108275    0\n",
       "369       1\n",
       "60293     0\n",
       "110869    1\n",
       "451       1\n",
       "84081     0\n",
       "116213    0\n",
       "65829     1\n",
       "83506     1\n",
       "Name: target, Length: 36162, dtype: int64"
      ]
     },
     "execution_count": 51,
     "metadata": {},
     "output_type": "execute_result"
    }
   ],
   "source": [
    "y_test"
   ]
  },
  {
   "cell_type": "code",
   "execution_count": 57,
   "metadata": {},
   "outputs": [
    {
     "data": {
      "text/html": [
       "<div>\n",
       "<style scoped>\n",
       "    .dataframe tbody tr th:only-of-type {\n",
       "        vertical-align: middle;\n",
       "    }\n",
       "\n",
       "    .dataframe tbody tr th {\n",
       "        vertical-align: top;\n",
       "    }\n",
       "\n",
       "    .dataframe thead th {\n",
       "        text-align: right;\n",
       "    }\n",
       "</style>\n",
       "<table border=\"1\" class=\"dataframe\">\n",
       "  <thead>\n",
       "    <tr style=\"text-align: right;\">\n",
       "      <th></th>\n",
       "      <th>Sentence</th>\n",
       "      <th>Class</th>\n",
       "    </tr>\n",
       "  </thead>\n",
       "  <tbody>\n",
       "    <tr>\n",
       "      <th>0</th>\n",
       "      <td>Are Hindi-speaking north Indian migrants destroying the culture and peace of non-Hindi speaking states?</td>\n",
       "      <td>1</td>\n",
       "    </tr>\n",
       "    <tr>\n",
       "      <th>1</th>\n",
       "      <td>How fast can a nuclear thermal rocket engine travel to Mars?</td>\n",
       "      <td>0</td>\n",
       "    </tr>\n",
       "    <tr>\n",
       "      <th>2</th>\n",
       "      <td>What is the appearance definition in gerund?</td>\n",
       "      <td>0</td>\n",
       "    </tr>\n",
       "    <tr>\n",
       "      <th>3</th>\n",
       "      <td>Is IKEA a respectable company like Costco or a blight like WalMart?</td>\n",
       "      <td>0</td>\n",
       "    </tr>\n",
       "    <tr>\n",
       "      <th>4</th>\n",
       "      <td>I think Donald Trump will be one of the best presidents in the history of America, he might even appear on the dollar bill or be sculpted on Mount Rushmore like in 100 year, am I wrong?</td>\n",
       "      <td>1</td>\n",
       "    </tr>\n",
       "    <tr>\n",
       "      <th>5</th>\n",
       "      <td>What can I do to abort the pregnancy of a female?</td>\n",
       "      <td>1</td>\n",
       "    </tr>\n",
       "    <tr>\n",
       "      <th>6</th>\n",
       "      <td>Will the ice cube left on the kitchen counter melt the fastest why?</td>\n",
       "      <td>0</td>\n",
       "    </tr>\n",
       "    <tr>\n",
       "      <th>7</th>\n",
       "      <td>Why do 11-year-old girls only have the same bored tits and holes?</td>\n",
       "      <td>1</td>\n",
       "    </tr>\n",
       "    <tr>\n",
       "      <th>8</th>\n",
       "      <td>What did nature create on its own without God's help?</td>\n",
       "      <td>0</td>\n",
       "    </tr>\n",
       "    <tr>\n",
       "      <th>9</th>\n",
       "      <td>What is the advantage of expressing a function as a power series?</td>\n",
       "      <td>0</td>\n",
       "    </tr>\n",
       "    <tr>\n",
       "      <th>10</th>\n",
       "      <td>How can I touch my mom pusyy?</td>\n",
       "      <td>1</td>\n",
       "    </tr>\n",
       "    <tr>\n",
       "      <th>11</th>\n",
       "      <td>Where do broken kettles, microwaves and other home appliances go in your community? How is the network for recycling these products mantained in your community and is its sustainable and profitable?</td>\n",
       "      <td>0</td>\n",
       "    </tr>\n",
       "    <tr>\n",
       "      <th>12</th>\n",
       "      <td>What could Aquaman do against Darkseid in Justice League?</td>\n",
       "      <td>0</td>\n",
       "    </tr>\n",
       "    <tr>\n",
       "      <th>13</th>\n",
       "      <td>How come a lot of people on social media who post about positivity, are jerks in real life?</td>\n",
       "      <td>1</td>\n",
       "    </tr>\n",
       "    <tr>\n",
       "      <th>14</th>\n",
       "      <td>Why do you keep publishing this \"flat earth\" rubbish? Such stupidity should be just dumped aside. Not argued by otherwize intelligent people.</td>\n",
       "      <td>1</td>\n",
       "    </tr>\n",
       "    <tr>\n",
       "      <th>15</th>\n",
       "      <td>Are there any discrimination done to person who has converted from another faith to Islam by another Muslim brothers?</td>\n",
       "      <td>1</td>\n",
       "    </tr>\n",
       "    <tr>\n",
       "      <th>16</th>\n",
       "      <td>What was something that shocked you once you got to know about it?</td>\n",
       "      <td>0</td>\n",
       "    </tr>\n",
       "    <tr>\n",
       "      <th>17</th>\n",
       "      <td>Religion and politics: Why aren't people who believe in religions openminded enough to admit they were FORCED to become religious AT BIRTH, ie BRAINWASHED?</td>\n",
       "      <td>1</td>\n",
       "    </tr>\n",
       "    <tr>\n",
       "      <th>18</th>\n",
       "      <td>Why are Jews so hated throughout history?</td>\n",
       "      <td>1</td>\n",
       "    </tr>\n",
       "    <tr>\n",
       "      <th>19</th>\n",
       "      <td>Why is the GOP lying about this tax bill to the American people?</td>\n",
       "      <td>1</td>\n",
       "    </tr>\n",
       "    <tr>\n",
       "      <th>20</th>\n",
       "      <td>If on Instagram, I make my account public, then retag someone on a post (then back to a private) will that someone get a notification?</td>\n",
       "      <td>0</td>\n",
       "    </tr>\n",
       "    <tr>\n",
       "      <th>21</th>\n",
       "      <td>Why do Indian Hindus have so much hate and bias against their own kind?</td>\n",
       "      <td>1</td>\n",
       "    </tr>\n",
       "    <tr>\n",
       "      <th>22</th>\n",
       "      <td>How much are the employees of a car company payed &gt;?</td>\n",
       "      <td>0</td>\n",
       "    </tr>\n",
       "    <tr>\n",
       "      <th>23</th>\n",
       "      <td>Can you survive to have a mortage loan (Apartment/Landed House) in Jakarta with only 15mio salary/month? Note that you have to spent 2.5 mio/month for gasoline and highway.</td>\n",
       "      <td>0</td>\n",
       "    </tr>\n",
       "    <tr>\n",
       "      <th>24</th>\n",
       "      <td>What country can I marry my half brother?</td>\n",
       "      <td>1</td>\n",
       "    </tr>\n",
       "    <tr>\n",
       "      <th>25</th>\n",
       "      <td>Why are the undereducated people that overwhelmingly voted for President Obama held in higher regard by the left than the undereducated Trump voters?</td>\n",
       "      <td>1</td>\n",
       "    </tr>\n",
       "    <tr>\n",
       "      <th>26</th>\n",
       "      <td>Can anyone contradict me if I say \"The real outcome of the teachings of Islam are that, the Muslims end up becoming poor and eventually have to depend on other religious populations tax money\"?</td>\n",
       "      <td>1</td>\n",
       "    </tr>\n",
       "    <tr>\n",
       "      <th>27</th>\n",
       "      <td>Do Trump fans wake up in fear every day knowing Mueller is coming for Trump?</td>\n",
       "      <td>1</td>\n",
       "    </tr>\n",
       "    <tr>\n",
       "      <th>28</th>\n",
       "      <td>Is meditation a practice of premature death?</td>\n",
       "      <td>0</td>\n",
       "    </tr>\n",
       "    <tr>\n",
       "      <th>29</th>\n",
       "      <td>What should I do to prevent me from being tagged as boring?</td>\n",
       "      <td>0</td>\n",
       "    </tr>\n",
       "    <tr>\n",
       "      <th>30</th>\n",
       "      <td>What is a better option CA or MBA, provided failing for IPCC one time?</td>\n",
       "      <td>0</td>\n",
       "    </tr>\n",
       "    <tr>\n",
       "      <th>31</th>\n",
       "      <td>What are the differences between HDTV antennas and regular antennas?</td>\n",
       "      <td>0</td>\n",
       "    </tr>\n",
       "    <tr>\n",
       "      <th>32</th>\n",
       "      <td>What are the biggest secrets in the Legal World?</td>\n",
       "      <td>0</td>\n",
       "    </tr>\n",
       "    <tr>\n",
       "      <th>33</th>\n",
       "      <td>Why are tall women so unnatractive?</td>\n",
       "      <td>1</td>\n",
       "    </tr>\n",
       "    <tr>\n",
       "      <th>34</th>\n",
       "      <td>What is the worst work experience you've had at Amazon?</td>\n",
       "      <td>0</td>\n",
       "    </tr>\n",
       "    <tr>\n",
       "      <th>35</th>\n",
       "      <td>What are the themes in the book \"Daddy-Long-Legs\"?</td>\n",
       "      <td>0</td>\n",
       "    </tr>\n",
       "    <tr>\n",
       "      <th>36</th>\n",
       "      <td>How was former president Obama able to get away with decisions, during the presidency, that would have got the common person in prison?</td>\n",
       "      <td>1</td>\n",
       "    </tr>\n",
       "    <tr>\n",
       "      <th>37</th>\n",
       "      <td>Can I conceive after entering the new house?</td>\n",
       "      <td>0</td>\n",
       "    </tr>\n",
       "    <tr>\n",
       "      <th>38</th>\n",
       "      <td>How stupid are general movie audiences? Do they even understand which movies are in which franchise?</td>\n",
       "      <td>1</td>\n",
       "    </tr>\n",
       "    <tr>\n",
       "      <th>39</th>\n",
       "      <td>What is the value of iron ring made from boat nail?</td>\n",
       "      <td>0</td>\n",
       "    </tr>\n",
       "    <tr>\n",
       "      <th>40</th>\n",
       "      <td>What are some of the strangest laws in Taiwan?</td>\n",
       "      <td>0</td>\n",
       "    </tr>\n",
       "    <tr>\n",
       "      <th>41</th>\n",
       "      <td>How do I activate a underactive achilles tendon?</td>\n",
       "      <td>0</td>\n",
       "    </tr>\n",
       "    <tr>\n",
       "      <th>42</th>\n",
       "      <td>Who is the best door to door services provider company in Delhi?</td>\n",
       "      <td>0</td>\n",
       "    </tr>\n",
       "    <tr>\n",
       "      <th>43</th>\n",
       "      <td>Why don’t Americans live by the Seventh Generation Principle?</td>\n",
       "      <td>1</td>\n",
       "    </tr>\n",
       "    <tr>\n",
       "      <th>44</th>\n",
       "      <td>Why are Indian Muslims proud of Mughals when none of them were Muslim in behavior?</td>\n",
       "      <td>1</td>\n",
       "    </tr>\n",
       "    <tr>\n",
       "      <th>45</th>\n",
       "      <td>Why does the US porn industry make so many videos with black actors working with white women? Why is this allowed in the US?</td>\n",
       "      <td>1</td>\n",
       "    </tr>\n",
       "    <tr>\n",
       "      <th>46</th>\n",
       "      <td>Do you believe everything a Holocaust survivor say?</td>\n",
       "      <td>1</td>\n",
       "    </tr>\n",
       "    <tr>\n",
       "      <th>47</th>\n",
       "      <td>I’m beginning to get some self hate for my self as a European, because of our violent history and the attacking of the middle eastern countries like Afghanistan and Iraq and Syria. What do I do? How can I get over the guilt of living here?</td>\n",
       "      <td>1</td>\n",
       "    </tr>\n",
       "    <tr>\n",
       "      <th>48</th>\n",
       "      <td>If you ask your significant other to not do something you are uncomfortable with, is that love?</td>\n",
       "      <td>0</td>\n",
       "    </tr>\n",
       "    <tr>\n",
       "      <th>49</th>\n",
       "      <td>If a person with left-leaning values is attacked by a person with right-leaning values using a biting like gesture, does the bitten person adopt more extreme right-wing values i.e. loves firearms, anti-abortionist and develops a southern US accent?</td>\n",
       "      <td>0</td>\n",
       "    </tr>\n",
       "  </tbody>\n",
       "</table>\n",
       "</div>"
      ],
      "text/plain": [
       "                                                                                                                                                                                                                                                    Sentence  \\\n",
       "0   Are Hindi-speaking north Indian migrants destroying the culture and peace of non-Hindi speaking states?                                                                                                                                                    \n",
       "1   How fast can a nuclear thermal rocket engine travel to Mars?                                                                                                                                                                                               \n",
       "2   What is the appearance definition in gerund?                                                                                                                                                                                                               \n",
       "3   Is IKEA a respectable company like Costco or a blight like WalMart?                                                                                                                                                                                        \n",
       "4   I think Donald Trump will be one of the best presidents in the history of America, he might even appear on the dollar bill or be sculpted on Mount Rushmore like in 100 year, am I wrong?                                                                  \n",
       "5   What can I do to abort the pregnancy of a female?                                                                                                                                                                                                          \n",
       "6   Will the ice cube left on the kitchen counter melt the fastest why?                                                                                                                                                                                        \n",
       "7   Why do 11-year-old girls only have the same bored tits and holes?                                                                                                                                                                                          \n",
       "8   What did nature create on its own without God's help?                                                                                                                                                                                                      \n",
       "9   What is the advantage of expressing a function as a power series?                                                                                                                                                                                          \n",
       "10  How can I touch my mom pusyy?                                                                                                                                                                                                                              \n",
       "11  Where do broken kettles, microwaves and other home appliances go in your community? How is the network for recycling these products mantained in your community and is its sustainable and profitable?                                                     \n",
       "12  What could Aquaman do against Darkseid in Justice League?                                                                                                                                                                                                  \n",
       "13  How come a lot of people on social media who post about positivity, are jerks in real life?                                                                                                                                                                \n",
       "14  Why do you keep publishing this \"flat earth\" rubbish? Such stupidity should be just dumped aside. Not argued by otherwize intelligent people.                                                                                                              \n",
       "15  Are there any discrimination done to person who has converted from another faith to Islam by another Muslim brothers?                                                                                                                                      \n",
       "16  What was something that shocked you once you got to know about it?                                                                                                                                                                                         \n",
       "17  Religion and politics: Why aren't people who believe in religions openminded enough to admit they were FORCED to become religious AT BIRTH, ie BRAINWASHED?                                                                                                \n",
       "18  Why are Jews so hated throughout history?                                                                                                                                                                                                                  \n",
       "19  Why is the GOP lying about this tax bill to the American people?                                                                                                                                                                                           \n",
       "20  If on Instagram, I make my account public, then retag someone on a post (then back to a private) will that someone get a notification?                                                                                                                     \n",
       "21  Why do Indian Hindus have so much hate and bias against their own kind?                                                                                                                                                                                    \n",
       "22  How much are the employees of a car company payed >?                                                                                                                                                                                                       \n",
       "23  Can you survive to have a mortage loan (Apartment/Landed House) in Jakarta with only 15mio salary/month? Note that you have to spent 2.5 mio/month for gasoline and highway.                                                                               \n",
       "24  What country can I marry my half brother?                                                                                                                                                                                                                  \n",
       "25  Why are the undereducated people that overwhelmingly voted for President Obama held in higher regard by the left than the undereducated Trump voters?                                                                                                      \n",
       "26  Can anyone contradict me if I say \"The real outcome of the teachings of Islam are that, the Muslims end up becoming poor and eventually have to depend on other religious populations tax money\"?                                                          \n",
       "27  Do Trump fans wake up in fear every day knowing Mueller is coming for Trump?                                                                                                                                                                               \n",
       "28  Is meditation a practice of premature death?                                                                                                                                                                                                               \n",
       "29  What should I do to prevent me from being tagged as boring?                                                                                                                                                                                                \n",
       "30  What is a better option CA or MBA, provided failing for IPCC one time?                                                                                                                                                                                     \n",
       "31  What are the differences between HDTV antennas and regular antennas?                                                                                                                                                                                       \n",
       "32  What are the biggest secrets in the Legal World?                                                                                                                                                                                                           \n",
       "33  Why are tall women so unnatractive?                                                                                                                                                                                                                        \n",
       "34  What is the worst work experience you've had at Amazon?                                                                                                                                                                                                    \n",
       "35  What are the themes in the book \"Daddy-Long-Legs\"?                                                                                                                                                                                                         \n",
       "36  How was former president Obama able to get away with decisions, during the presidency, that would have got the common person in prison?                                                                                                                    \n",
       "37  Can I conceive after entering the new house?                                                                                                                                                                                                               \n",
       "38  How stupid are general movie audiences? Do they even understand which movies are in which franchise?                                                                                                                                                       \n",
       "39  What is the value of iron ring made from boat nail?                                                                                                                                                                                                        \n",
       "40  What are some of the strangest laws in Taiwan?                                                                                                                                                                                                             \n",
       "41  How do I activate a underactive achilles tendon?                                                                                                                                                                                                           \n",
       "42  Who is the best door to door services provider company in Delhi?                                                                                                                                                                                           \n",
       "43  Why don’t Americans live by the Seventh Generation Principle?                                                                                                                                                                                              \n",
       "44  Why are Indian Muslims proud of Mughals when none of them were Muslim in behavior?                                                                                                                                                                         \n",
       "45  Why does the US porn industry make so many videos with black actors working with white women? Why is this allowed in the US?                                                                                                                               \n",
       "46  Do you believe everything a Holocaust survivor say?                                                                                                                                                                                                        \n",
       "47  I’m beginning to get some self hate for my self as a European, because of our violent history and the attacking of the middle eastern countries like Afghanistan and Iraq and Syria. What do I do? How can I get over the guilt of living here?            \n",
       "48  If you ask your significant other to not do something you are uncomfortable with, is that love?                                                                                                                                                            \n",
       "49  If a person with left-leaning values is attacked by a person with right-leaning values using a biting like gesture, does the bitten person adopt more extreme right-wing values i.e. loves firearms, anti-abortionist and develops a southern US accent?   \n",
       "\n",
       "    Class  \n",
       "0   1      \n",
       "1   0      \n",
       "2   0      \n",
       "3   0      \n",
       "4   1      \n",
       "5   1      \n",
       "6   0      \n",
       "7   1      \n",
       "8   0      \n",
       "9   0      \n",
       "10  1      \n",
       "11  0      \n",
       "12  0      \n",
       "13  1      \n",
       "14  1      \n",
       "15  1      \n",
       "16  0      \n",
       "17  1      \n",
       "18  1      \n",
       "19  1      \n",
       "20  0      \n",
       "21  1      \n",
       "22  0      \n",
       "23  0      \n",
       "24  1      \n",
       "25  1      \n",
       "26  1      \n",
       "27  1      \n",
       "28  0      \n",
       "29  0      \n",
       "30  0      \n",
       "31  0      \n",
       "32  0      \n",
       "33  1      \n",
       "34  0      \n",
       "35  0      \n",
       "36  1      \n",
       "37  0      \n",
       "38  1      \n",
       "39  0      \n",
       "40  0      \n",
       "41  0      \n",
       "42  0      \n",
       "43  1      \n",
       "44  1      \n",
       "45  1      \n",
       "46  1      \n",
       "47  1      \n",
       "48  0      \n",
       "49  0      "
      ]
     },
     "execution_count": 57,
     "metadata": {},
     "output_type": "execute_result"
    }
   ],
   "source": [
    "pd.set_option('display.max_colwidth', -1)\n",
    "print_true_classifications(X_test.reset_index(drop=True)['question_text'],y_pred,y_test.reset_index(drop=True),50)"
   ]
  },
  {
   "cell_type": "code",
   "execution_count": null,
   "metadata": {},
   "outputs": [],
   "source": [
    "del svd_pipeline\n",
    "del components\n",
    "gc.collect()"
   ]
  },
  {
   "cell_type": "markdown",
   "metadata": {},
   "source": [
    "### 2. TFIDF + LDA + POLY + SENTI + LOGISTIC"
   ]
  },
  {
   "cell_type": "code",
   "execution_count": null,
   "metadata": {},
   "outputs": [],
   "source": [
    "lda_pipeline = PipelineModel()\n",
    "\n",
    "vectorizer = create_tfidf_feature((1,3))\n",
    "lda = create_lda_feature()\n",
    "poly = create_poly_feature()\n",
    "feature_lda_pipe = Pipeline([\n",
    "    ('vectorizer',vectorizer),\n",
    "    ('lda',lda),\n",
    "    ('polynom', poly),\n",
    "])\n",
    "\n",
    "senti = create_sentiment_feature()\n",
    "feature_sentiment_pipe = Pipeline([\n",
    "    ('sentiment',senti),\n",
    "])\n",
    "\n",
    "profanity = create_profanity_feature()\n",
    "feature_profanity_pipe = Pipeline([\n",
    "    ('profanity',profanity),\n",
    "])\n",
    "\n",
    "lda_pipeline.add_feature('lda_pipe',feature_lda_pipe)\n",
    "lda_pipeline.add_feature('senti_pipe',feature_sentiment_pipe)\n",
    "lda_pipeline.add_feature('profanity_pipe',feature_profanity_pipe)\n",
    "\n",
    "lr = LogisticRegression(random_state=0, solver='lbfgs',multi_class='multinomial')\n",
    "lda_pipeline.set_model(lr)\n",
    "\n",
    "lda_pipeline.train_pipeline(X_train_pr,y_train)\n",
    "y_pred = lda_pipeline.test_pipeline(X_test_pr)\n",
    "print_results(y_pred,y_test)"
   ]
  },
  {
   "cell_type": "code",
   "execution_count": null,
   "metadata": {},
   "outputs": [],
   "source": [
    "del lda_pipeline\n",
    "gc.collect()"
   ]
  },
  {
   "cell_type": "markdown",
   "metadata": {},
   "source": [
    "### 3. TFIDF + SVD + POLY + SENTI + DECISION TREE"
   ]
  },
  {
   "cell_type": "code",
   "execution_count": null,
   "metadata": {},
   "outputs": [],
   "source": [
    "dtree_pipeline = PipelineModel()\n",
    "\n",
    "vectorizer = create_tfidf_feature((1,2))\n",
    "svd = create_svd_feature(200)\n",
    "poly = create_poly_feature()\n",
    "feature_dtree_pipe = Pipeline([\n",
    "    ('vectorizer',vectorizer),\n",
    "    ('svd',svd),\n",
    "    #('polynom', poly),\n",
    "])\n",
    "\n",
    "senti = create_sentiment_feature()\n",
    "feature_sentiment_pipe = Pipeline([\n",
    "    ('sentiment',senti),\n",
    "])\n",
    "\n",
    "profanity = create_profanity_feature()\n",
    "feature_profanity_pipe = Pipeline([\n",
    "    ('profanity',profanity),\n",
    "])\n",
    "\n",
    "dtree_pipeline.add_feature('dtree_pipe',feature_dtree_pipe)\n",
    "dtree_pipeline.add_feature('senti_pipe',feature_sentiment_pipe)\n",
    "dtree_pipeline.add_feature('profanity_pipe',feature_profanity_pipe)\n",
    "\n",
    "dtree = DecisionTreeClassifier(random_state=0, criterion='entropy',max_depth=70,min_samples_leaf=60)\n",
    "dtree_pipeline.set_model(dtree)"
   ]
  },
  {
   "cell_type": "code",
   "execution_count": null,
   "metadata": {},
   "outputs": [],
   "source": [
    "dtree_pipeline.hyperparam_optimize(X_train_pr,y_train,param_grid_dtree)\n",
    "print(dtree_pipeline.model_pipe.named_steps['model'].best_estimator_)\n",
    "print(dtree_pipeline.model_pipe.named_steps['model'].best_score_)"
   ]
  },
  {
   "cell_type": "code",
   "execution_count": null,
   "metadata": {},
   "outputs": [],
   "source": [
    "model_fit = dtree_pipeline.cross_validate(X_train_pr,y_train)\n",
    "print(\"Average F1 score : \",np.mean(dtree_pipeline.model_pipe.named_steps['model'].score))"
   ]
  },
  {
   "cell_type": "code",
   "execution_count": null,
   "metadata": {},
   "outputs": [],
   "source": [
    "dtree_pipeline.train_pipeline(X_train_pr,y_train)\n",
    "y_pred = dtree_pipeline.test_pipeline(X_test_pr)\n",
    "print_results(y_pred,y_test)"
   ]
  },
  {
   "cell_type": "code",
   "execution_count": null,
   "metadata": {},
   "outputs": [],
   "source": [
    "%matplotlib inline\n",
    "from matplotlib import pyplot as plt\n",
    "plt.figure(figsize=(10,6))\n",
    "(pd.Series(dtree.feature_importances_)\n",
    "   .nlargest(20)\n",
    "   .plot(kind='barh'))"
   ]
  },
  {
   "cell_type": "code",
   "execution_count": null,
   "metadata": {},
   "outputs": [],
   "source": [
    "from sklearn.tree import export_graphviz\n",
    "export_graphviz(dtree,out_file='tree.dot')"
   ]
  },
  {
   "cell_type": "code",
   "execution_count": null,
   "metadata": {},
   "outputs": [],
   "source": [
    "del dtree_pipeline\n",
    "gc.collect()"
   ]
  },
  {
   "cell_type": "markdown",
   "metadata": {},
   "source": [
    "### Random Forest"
   ]
  },
  {
   "cell_type": "code",
   "execution_count": null,
   "metadata": {},
   "outputs": [],
   "source": [
    "rf_pipeline = PipelineModel()\n",
    "\n",
    "vectorizer = create_tfidf_feature((1,2))\n",
    "svd = create_svd_feature(200)\n",
    "poly = create_poly_feature()\n",
    "feature_rf_pipe = Pipeline([\n",
    "    ('vectorizer',vectorizer),\n",
    "    ('svd',svd),\n",
    "    ('polynom', poly),\n",
    "])\n",
    "\n",
    "senti = create_sentiment_feature()\n",
    "feature_sentiment_pipe = Pipeline([\n",
    "    ('sentiment',senti),\n",
    "])\n",
    "\n",
    "profanity = create_profanity_feature()\n",
    "feature_profanity_pipe = Pipeline([\n",
    "    ('profanity',profanity),\n",
    "])\n",
    "\n",
    "rf_pipeline.add_feature('rf_pipe',feature_rf_pipe)\n",
    "rf_pipeline.add_feature('senti_pipe',feature_sentiment_pipe)\n",
    "rf_pipeline.add_feature('profanity_pipe',feature_profanity_pipe)\n",
    "\n",
    "rf = RandomForestClassifier(random_state=0, criterion='entropy',max_depth=100,min_samples_leaf=60,max_features='sqrt')\n",
    "rf_pipeline.set_model(rf)\n",
    "\n",
    "rf_pipeline.train_pipeline(X_train_pr,y_train)\n",
    "y_pred = rf_pipeline.test_pipeline(X_test_pr)\n",
    "print_results(y_pred,y_test)"
   ]
  },
  {
   "cell_type": "markdown",
   "metadata": {},
   "source": [
    "### K-Nearest Neighbours"
   ]
  },
  {
   "cell_type": "code",
   "execution_count": null,
   "metadata": {},
   "outputs": [],
   "source": [
    "from sklearn.neighbors import KNeighborsClassifier"
   ]
  },
  {
   "cell_type": "code",
   "execution_count": null,
   "metadata": {},
   "outputs": [],
   "source": [
    "knn_pipeline = PipelineModel()\n",
    "\n",
    "vectorizer = create_tfidf_feature((1,3))\n",
    "svd = create_svd_feature()\n",
    "poly = create_poly_feature()\n",
    "feature_knn_pipe = Pipeline([\n",
    "    ('vectorizer',vectorizer),\n",
    "    ('svd',svd),\n",
    "])\n",
    "\n",
    "senti = create_sentiment_feature()\n",
    "feature_sentiment_pipe = Pipeline([\n",
    "    ('sentiment',senti),\n",
    "])\n",
    "\n",
    "profanity = create_profanity_feature()\n",
    "feature_profanity_pipe = Pipeline([\n",
    "    ('profanity',profanity),\n",
    "])\n",
    "\n",
    "knn_pipeline.add_feature('knn_pipe',feature_knn_pipe)\n",
    "knn_pipeline.add_feature('senti_pipe',feature_sentiment_pipe)\n",
    "knn_pipeline.add_feature('profanity_pipe',feature_profanity_pipe)\n",
    "\n",
    "knn = KNeighborsClassifier(5)\n",
    "knn_pipeline.set_model(knn)\n",
    "\n",
    "knn_pipeline.train_pipeline(X_train_pr,y_train)\n",
    "y_pred = knn_pipeline.test_pipeline(X_test_pr)\n",
    "print_results(y_pred,y_test)"
   ]
  },
  {
   "cell_type": "code",
   "execution_count": null,
   "metadata": {},
   "outputs": [],
   "source": [
    "del knn_pipeline\n",
    "gc.collect()"
   ]
  },
  {
   "cell_type": "code",
   "execution_count": null,
   "metadata": {},
   "outputs": [],
   "source": [
    "### Logistic regression hyperparameter space\n",
    "# Create regularization penalty space\n",
    "penalty = ['l1', 'l2']\n",
    "# Create regularization hyperparameter space\n",
    "C = np.logspace(0, 4, 10)\n",
    "# Create hyperparameter options\n",
    "hyperparameters_lr = dict(C=C, penalty=penalty)\n",
    "\n",
    "### Random Forest hyperparameter space\n",
    "param_grid_rf = {\n",
    "    'bootstrap': [True],\n",
    "    'max_depth': [80, 90, 100, 110],\n",
    "    'max_features': [2, 3],\n",
    "    'min_samples_leaf': [3, 4, 5],\n",
    "    'min_samples_split': [8, 10, 12],\n",
    "    'n_estimators': [100, 200, 300, 1000]\n",
    "}\n",
    "\n",
    "### Decision tree hyperparameter space\n",
    "param_grid_dtree = {\n",
    "    'max_depth': [100, 200, 300],\n",
    "    'min_samples_leaf': [20, 40, 60],\n",
    "}"
   ]
  },
  {
   "cell_type": "code",
   "execution_count": null,
   "metadata": {},
   "outputs": [],
   "source": []
  }
 ],
 "metadata": {
  "kernelspec": {
   "display_name": "Python 3",
   "language": "python",
   "name": "python3"
  },
  "language_info": {
   "codemirror_mode": {
    "name": "ipython",
    "version": 3
   },
   "file_extension": ".py",
   "mimetype": "text/x-python",
   "name": "python",
   "nbconvert_exporter": "python",
   "pygments_lexer": "ipython3",
   "version": "3.6.5"
  }
 },
 "nbformat": 4,
 "nbformat_minor": 2
}
